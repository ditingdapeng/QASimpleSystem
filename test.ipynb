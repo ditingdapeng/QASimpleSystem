{
 "cells": [
  {
   "cell_type": "code",
   "execution_count": 5,
   "metadata": {},
   "outputs": [],
   "source": [
    "import json\n",
    "def read_corpus():\n",
    "    \"\"\"\n",
    "    读取给定的语料库，并把问题列表和答案列表分别写入到 qlist, alist 里面。 在此过程中，不用对字符换做任何的处理（这部分需要在 Part 2.3里处理）\n",
    "    qlist = [\"问题1\"， “问题2”， “问题3” ....]\n",
    "    alist = [\"答案1\", \"答案2\", \"答案3\" ....]\n",
    "    务必要让每一个问题和答案对应起来（下标位置一致）\n",
    "    \"\"\"\n",
    "    # TODO 需要完成的代码部分 ...\n",
    "    qlist = []\n",
    "    alist = []\n",
    "    filename = 'train-v2.0.json'\n",
    "    datas = json.load(open(filename,'r'))\n",
    "    data = datas['data']\n",
    "    for d in data:\n",
    "        paragraph = d['paragraphs']\n",
    "        for p in paragraph:\n",
    "            qas = p['qas']\n",
    "            for qa in qas:\n",
    "                #print(qa)\n",
    "                #处理is_impossible为True时answers空\n",
    "                if(not qa['is_impossible']):\n",
    "                    qlist.append(qa['question'])\n",
    "                    alist.append(qa['answers'][0]['text'])\n",
    "    assert len(qlist) == len(alist)  # 确保长度一样\n",
    "    return qlist, alist\n",
    "qlist,alist = read_corpus()"
   ]
  },
  {
   "cell_type": "code",
   "execution_count": null,
   "metadata": {},
   "outputs": [],
   "source": [
    "'famous?'"
   ]
  },
  {
   "cell_type": "code",
   "execution_count": 6,
   "metadata": {},
   "outputs": [],
   "source": [
    "import nltk\n",
    "from nltk.corpus import stopwords\n",
    "import codecs\n",
    "import re\n",
    "\n",
    "def lowerCase(ori_list):\n",
    "    return [q.lower() for q in ori_list]\n",
    "def tokenizer(ori_list):\n",
    "    #分词时处理标点符号\n",
    "    SYMBOLS = re.compile('[\\s;\\\"\\\",.!?\\\\/\\[\\]\\{\\}\\(\\)-]+')\n",
    "    new_list = []\n",
    "    for q in ori_list:\n",
    "        words = SYMBOLS.split(q.strip())\n",
    "        new_list.append(' '.join(words))\n",
    "    return new_list\n",
    "\n",
    "# nltk中stopwords包含what等，但是在QA问题中，这算关键词，所以不看作关键词    \n",
    "def removeStopWord(ori_list):\n",
    "    new_list = []\n",
    "    restored = ['what','when','which','how','who','where']\n",
    "    english_stop_words = list(set(stopwords.words('english')))#['what','when','which','how','who','where','a','an','the'] #\n",
    "    for w in restored:\n",
    "        english_stop_words.remove(w)\n",
    "    for q in ori_list:\n",
    "        sentence = ' '.join([w for w in q.strip().split(' ') if w not in english_stop_words])\n",
    "        new_list.append(sentence)\n",
    "    return new_list\n",
    "\n",
    "def removeLowFrequence(ori_list,vocabulary,thres = 10):\n",
    "    #根据thres筛选词表，小于thres的词去掉\n",
    "    new_list = []\n",
    "    for q in ori_list:\n",
    "        sentence = ' '.join([w for w in q.strip().split(' ') if vocabulary[w] >= thres])\n",
    "        new_list.append(sentence)\n",
    "    return new_list\n",
    "\n",
    "def replaceDigits(ori_list,replace = '#number'):\n",
    "    #将数字统一替换为replace,默认#number\n",
    "    DIGITS = re.compile('\\d+')\n",
    "    new_list = []\n",
    "    for q in ori_list:\n",
    "        q = DIGITS.sub(replace,q)\n",
    "        new_list.append(q)\n",
    "    return new_list\n",
    "\n",
    "# 定义处理一个单词的函数: 使用参数来控制是否变换小写及停用词去除；接受的是数组list\n",
    "def handle_sentence(word_list, isLowCase=True, isStopWord=True, isReplaceDigits=True):\n",
    "    if isLowCase:\n",
    "        word_list = lowerCase(word_list)\n",
    "    word_list = tokenizer(word_list)\n",
    "    if isStopWord:\n",
    "        word_list = removeStopWord(word_list)\n",
    "    if isReplaceDigits:\n",
    "        word_list = replaceDigits(word_list)\n",
    "    return word_list\n",
    "\n",
    "new_qlist = handle_sentence(qlist)"
   ]
  },
  {
   "cell_type": "code",
   "execution_count": 16,
   "metadata": {},
   "outputs": [
    {
     "name": "stdout",
     "output_type": "stream",
     "text": [
      "37731\n"
     ]
    }
   ],
   "source": [
    "# 首先先来看一下总词数\n",
    "from collections import Counter\n",
    "words_dict = dict()\n",
    "for q in new_qlist: \n",
    "    for w in q.split(' '):\n",
    "        if w in words_dict:\n",
    "            words_dict[w] += 1\n",
    "        else:\n",
    "            words_dict[w] = 1\n",
    "word_total = len(words_dict)\n",
    "print (word_total)"
   ]
  },
  {
   "cell_type": "code",
   "execution_count": 24,
   "metadata": {},
   "outputs": [],
   "source": [
    "# 统计一下qlist中出现1次，2次，3次... 出现的单词个数， 然后画一个plot. 这里的x轴是单词出现的次数（1，2，3，..)， y轴是单词个数\n",
    "from matplotlib.font_manager import FontProperties\n",
    "import matplotlib.pyplot as plt\n",
    "import numpy as np\n",
    "#counts：key出现N次，value：出现N次词有多少\n",
    "counts = dict()\n",
    "for w,c in words_dict.items():\n",
    "    if c in counts:\n",
    "        counts[c] += 1\n",
    "    else:\n",
    "        counts[c] = 1"
   ]
  },
  {
   "cell_type": "code",
   "execution_count": 26,
   "metadata": {},
   "outputs": [
    {
     "data": {
      "image/png": "[encoded data removed]",
      "text/plain": [
       "<Figure size 432x288 with 1 Axes>"
      ]
     },
     "metadata": {},
     "output_type": "display_data"
    }
   ],
   "source": [
    "x_data = list(dict_appear_counts.keys())\n",
    "y_data = list(dict_appear_counts.values())\n",
    "fig = plt.figure()  #设置画布\n",
    "ax1 = fig.add_subplot(111)\n",
    "k = 50\n",
    "plt.plot(x_data[:k], y_data[:k])\n",
    "ax1.set_xlabel(u'Word Appear Nums')\n",
    "ax1.set_ylabel(u'Word Counts')\n",
    "plt.show()"
   ]
  },
  {
   "cell_type": "code",
   "execution_count": null,
   "metadata": {},
   "outputs": [],
   "source": []
  }
 ],
 "metadata": {
  "kernelspec": {
   "display_name": "Python 3",
   "language": "python",
   "name": "python3"
  },
  "language_info": {
   "codemirror_mode": {
    "name": "ipython",
    "version": 3
   },
   "file_extension": ".py",
   "mimetype": "text/x-python",
   "name": "python",
   "nbconvert_exporter": "python",
   "pygments_lexer": "ipython3",
   "version": "3.6.5"
  }
 },
 "nbformat": 4,
 "nbformat_minor": 2
}
